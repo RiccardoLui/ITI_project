{
 "cells": [
  {
   "cell_type": "markdown",
   "metadata": {},
   "source": [
    "## ReadCSV and preprocess"
   ]
  },
  {
   "cell_type": "code",
   "execution_count": null,
   "metadata": {
    "vscode": {
     "languageId": "r"
    }
   },
   "outputs": [],
   "source": [
    "library(dplyr)\n",
    "library(readr)\n",
    "library(rjags)"
   ]
  },
  {
   "cell_type": "code",
   "execution_count": null,
   "metadata": {
    "vscode": {
     "languageId": "r"
    }
   },
   "outputs": [],
   "source": [
    "# Read your data\n",
    "df <- read_csv(\"data.csv\")\n",
    "\n",
    "# Create team indices (important for modeling)\n",
    "teams <- sort(unique(c(df$home_team, df$away_team)))\n",
    "team_index <- setNames(seq_along(teams), teams)\n",
    "\n",
    "df <- df %>%\n",
    "  mutate(\n",
    "    H = team_index[home_team],\n",
    "    A = team_index[away_team]\n",
    "  )\n"
   ]
  },
  {
   "cell_type": "markdown",
   "metadata": {},
   "source": [
    "## Model in JAGS for free throws"
   ]
  },
  {
   "cell_type": "code",
   "execution_count": null,
   "metadata": {
    "vscode": {
     "languageId": "r"
    }
   },
   "outputs": [],
   "source": [
    "model_string_pois <- \"\n",
    "model {\n",
    "  for (i in 1:N) {\n",
    "    # Home\n",
    "    HFT[i] ~ dpois(thetaH[i])\n",
    "    log(thetaH[i]) <- att[H[i]] + def[A[i]] + c + home\n",
    "    \n",
    "    # Away\n",
    "    AFT[i] ~ dpois(thetaA[i])\n",
    "    log(thetaA[i]) <- att[A[i]] + def[H[i]] + c\n",
    "  }\n",
    "\n",
    "  # Priors\n",
    "  for (j in 1:K) {\n",
    "    att[j] ~ dnorm(mu_att, tau_att)\n",
    "    def[j] ~ dnorm(mu_def, tau_def)\n",
    "  }\n",
    "\n",
    "  mu_att ~ dnorm(0, 0.0001)\n",
    "  mu_def ~ dnorm(0, 0.0001)\n",
    "  tau_att ~ dgamma(0.1, 0.1)\n",
    "  tau_def ~ dgamma(0.1, 0.1)\n",
    "\n",
    "  c ~ dnorm(0, 0.0001)\n",
    "  home ~ dnorm(0, 0.0001) T(0,)\n",
    "\n",
    "  # Identifiability constraints\n",
    "  att[K+1] <- -sum(att[1:(K-1)])\n",
    "  def[K+1] <- -sum(def[1:(K-1)]) \n",
    "}\n",
    "\""
   ]
  },
  {
   "cell_type": "markdown",
   "metadata": {},
   "source": [
    "## Prepare data for rjags"
   ]
  },
  {
   "cell_type": "code",
   "execution_count": null,
   "metadata": {
    "vscode": {
     "languageId": "r"
    }
   },
   "outputs": [],
   "source": [
    "# Assume you've already processed your DataFrame as above\n",
    "data_list <- list(\n",
    "  N = nrow(df),\n",
    "  K = length(teams)-1,\n",
    "  HFT = df$ftm_home,\n",
    "  AFT = df$ftm_away,\n",
    "  H = df$H,\n",
    "  A = df$A\n",
    ")\n",
    "\n",
    "# Run model\n",
    "model <- jags.model(textConnection(model_string_pois), data = data_list, n.chains = 3)\n",
    "update(model, 5000)  # Burn-in\n",
    "\n",
    "samples_pois <- coda.samples(model, variable.names = c(\"att\", \"def\", \"home\", \"c\"), n.iter = 1000)\n",
    "summary(samples_pois)\n"
   ]
  },
  {
   "cell_type": "code",
   "execution_count": null,
   "metadata": {
    "vscode": {
     "languageId": "r"
    }
   },
   "outputs": [],
   "source": [
    "coda::gelman.diag(samples_pois)  # > 1.1, problem with posterior"
   ]
  },
  {
   "cell_type": "code",
   "execution_count": null,
   "metadata": {
    "vscode": {
     "languageId": "r"
    }
   },
   "outputs": [],
   "source": [
    "par(bg = 'white')\n",
    "plot(samples)"
   ]
  }
 ],
 "metadata": {
  "kernelspec": {
   "display_name": "R",
   "language": "R",
   "name": "ir"
  },
  "language_info": {
   "name": "R"
  }
 },
 "nbformat": 4,
 "nbformat_minor": 2
}
