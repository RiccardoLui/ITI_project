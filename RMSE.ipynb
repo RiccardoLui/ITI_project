{
 "cells": [
  {
   "cell_type": "code",
   "execution_count": 2,
   "metadata": {},
   "outputs": [],
   "source": [
    "import numpy as np\n",
    "import pandas as pd\n",
    "from sklearn.metrics import root_mean_squared_error"
   ]
  },
  {
   "cell_type": "code",
   "execution_count": 3,
   "metadata": {},
   "outputs": [],
   "source": [
    "df_res = pd.read_csv('data.csv')\n",
    "\n",
    "# simulated\n",
    "df_att_ft = pd.read_csv('Pois_FT_att.csv')\n",
    "df_def_ft = pd.read_csv('Pois_FT_def.csv')\n",
    "\n",
    "df_c_ft = pd.read_csv('Pois_FT_c.csv')\n",
    "df_home_ft = pd.read_csv('Pois_FT_home.csv')\n",
    "c_ft = df_c_ft['x'][0]\n",
    "home_ft = df_home_ft['x'][0]\n",
    "\n",
    "# github\n",
    "df_att_ft_gh = pd.read_csv('att_ft_p.csv')\n",
    "df_def_ft_gh = pd.read_csv('def_ft_p.csv')\n",
    "\n",
    "c_ft_gh = 2.9061\n",
    "home_ft_gh = 0.064"
   ]
  },
  {
   "cell_type": "code",
   "execution_count": 7,
   "metadata": {},
   "outputs": [
    {
     "name": "stdout",
     "output_type": "stream",
     "text": [
      "0.07684187852441864 \t 0.07208122970788351\n"
     ]
    }
   ],
   "source": [
    "tot_ft_home = np.empty(len(df_res)) # predicted\n",
    "n_ft_home = np.empty(len(df_res)) # true\n",
    "tot_ft_away = np.empty(len(df_res))\n",
    "n_ft_away = np.empty(len(df_res))\n",
    "\n",
    "for index, row in df_res.iterrows():\n",
    "    #print(f'Game number {index}')\n",
    "    home_idx = row['home_code'] \n",
    "    away_idx = row['away_code'] \n",
    "    \n",
    "    tot_ft_home[index] = np.exp(df_att_ft['x'][home_idx] + df_def_ft['x'][away_idx] + c_ft + home_ft)\n",
    "    tot_ft_away[index] = np.exp(df_att_ft['x'][away_idx] + df_def_ft['x'][home_idx] + c_ft)\n",
    "\n",
    "    n_ft_home[index] = np.exp(df_att_ft_gh['x'][home_idx] + df_def_ft_gh['x'][away_idx] + c_ft_gh + home_ft_gh)\n",
    "    n_ft_away[index] = np.exp(df_att_ft_gh['x'][away_idx] + df_def_ft_gh['x'][home_idx] + c_ft_gh)\n",
    "\n",
    "rmse_home = root_mean_squared_error(n_ft_home, tot_ft_home)\n",
    "rmse_away = root_mean_squared_error(n_ft_away, tot_ft_away)  \n",
    "\n",
    "print(rmse_home, '\\t', rmse_away)"
   ]
  },
  {
   "cell_type": "code",
   "execution_count": 8,
   "metadata": {},
   "outputs": [],
   "source": [
    "# simulated\n",
    "df_att_ft = pd.read_csv('NB_FT_att.csv')\n",
    "df_def_ft = pd.read_csv('NB_FT_def.csv')\n",
    "\n",
    "df_c_ft = pd.read_csv('NB_FT_c.csv')\n",
    "df_home_ft = pd.read_csv('NB_FT_home.csv')\n",
    "c_ft = df_c_ft['x'][0]\n",
    "home_ft = df_home_ft['x'][0]\n",
    "\n",
    "# github\n",
    "df_att_ft_gh = pd.read_csv('att_ft_NB.csv')\n",
    "df_def_ft_gh = pd.read_csv('def_ft_NB.csv')\n",
    "\n",
    "c_ft = 2.8721\n",
    "home_ft = 0.0847"
   ]
  },
  {
   "cell_type": "code",
   "execution_count": 9,
   "metadata": {},
   "outputs": [
    {
     "name": "stdout",
     "output_type": "stream",
     "text": [
      "0.8219384231699691 \t 0.894067547911407\n"
     ]
    }
   ],
   "source": [
    "tot_ft_home = np.empty(len(df_res)) # predicted\n",
    "n_ft_home = np.empty(len(df_res)) # true\n",
    "tot_ft_away = np.empty(len(df_res))\n",
    "n_ft_away = np.empty(len(df_res))\n",
    "\n",
    "for index, row in df_res.iterrows():\n",
    "    #print(f'Game number {index}')\n",
    "    home_idx = row['home_code'] \n",
    "    away_idx = row['away_code'] \n",
    "    \n",
    "    tot_ft_home[index] = np.exp(df_att_ft['x'][home_idx] + df_def_ft['x'][away_idx] + c_ft + home_ft)\n",
    "    tot_ft_away[index] = np.exp(df_att_ft['x'][away_idx] + df_def_ft['x'][home_idx] + c_ft)\n",
    "\n",
    "    n_ft_home[index] = np.exp(df_att_ft_gh['x'][home_idx] + df_def_ft_gh['x'][away_idx] + c_ft_gh + home_ft_gh)\n",
    "    n_ft_away[index] = np.exp(df_att_ft_gh['x'][away_idx] + df_def_ft_gh['x'][home_idx] + c_ft_gh)\n",
    "\n",
    "rmse_home = root_mean_squared_error(n_ft_home, tot_ft_home)\n",
    "rmse_away = root_mean_squared_error(n_ft_away, tot_ft_away)  \n",
    "\n",
    "print(rmse_home, '\\t', rmse_away)"
   ]
  },
  {
   "cell_type": "code",
   "execution_count": null,
   "metadata": {},
   "outputs": [],
   "source": []
  }
 ],
 "metadata": {
  "kernelspec": {
   "display_name": "my_env",
   "language": "python",
   "name": "python3"
  },
  "language_info": {
   "codemirror_mode": {
    "name": "ipython",
    "version": 3
   },
   "file_extension": ".py",
   "mimetype": "text/x-python",
   "name": "python",
   "nbconvert_exporter": "python",
   "pygments_lexer": "ipython3",
   "version": "3.13.1"
  }
 },
 "nbformat": 4,
 "nbformat_minor": 2
}
